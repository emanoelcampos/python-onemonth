{
 "cells": [
  {
   "cell_type": "markdown",
   "id": "ad34f5f5-6951-4bdb-83f4-6254fc18e649",
   "metadata": {},
   "source": [
    "# Data Analysis Intro"
   ]
  },
  {
   "cell_type": "markdown",
   "id": "13a70d19-2b81-4b17-8622-afe6dc21e63a",
   "metadata": {},
   "source": [
    "## Import Pandas"
   ]
  },
  {
   "cell_type": "code",
   "execution_count": 4,
   "id": "cb083dc5-dfa2-438a-8cd7-fbdb0bdb31bc",
   "metadata": {},
   "outputs": [],
   "source": [
    "import pandas as pd"
   ]
  },
  {
   "cell_type": "markdown",
   "id": "087892c3-2145-4968-9ee5-9a0621eb6fa4",
   "metadata": {},
   "source": [
    "## Importing Data"
   ]
  },
  {
   "cell_type": "code",
   "execution_count": 12,
   "id": "d516c7fd-5c18-44bc-86d7-dea1017b2680",
   "metadata": {},
   "outputs": [],
   "source": [
    "names = ['id', 'title', 'year', 'rating', 'votes', 'length', 'genres']\n",
    "data = pd.read_csv('ipynb-data-files/imdb_top_10000.txt', sep=\"\\t\", names=names, index_col=0)"
   ]
  }
 ],
 "metadata": {
  "kernelspec": {
   "display_name": "Python 3 (ipykernel)",
   "language": "python",
   "name": "python3"
  },
  "language_info": {
   "codemirror_mode": {
    "name": "ipython",
    "version": 3
   },
   "file_extension": ".py",
   "mimetype": "text/x-python",
   "name": "python",
   "nbconvert_exporter": "python",
   "pygments_lexer": "ipython3",
   "version": "3.12.2"
  }
 },
 "nbformat": 4,
 "nbformat_minor": 5
}

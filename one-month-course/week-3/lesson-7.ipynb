{
 "cells": [
  {
   "cell_type": "markdown",
   "id": "c985559c-5294-442f-9886-1afe5d820e86",
   "metadata": {},
   "source": [
    "# Data Analysis Intro"
   ]
  },
  {
   "cell_type": "markdown",
   "id": "5a85fd32-ba97-4366-8b7a-3c7d4732a908",
   "metadata": {},
   "source": [
    "## Creating Data Frames from Scratch"
   ]
  },
  {
   "cell_type": "code",
   "execution_count": 3,
   "id": "bf20ee13-3007-4b95-ad61-db2960d32763",
   "metadata": {},
   "outputs": [],
   "source": [
    "import pandas as pd"
   ]
  },
  {
   "cell_type": "code",
   "execution_count": 4,
   "id": "4c2cba86-db42-42e4-85da-ee55aa2c0f1a",
   "metadata": {},
   "outputs": [],
   "source": [
    "sample_data = {\n",
    "   'tv': [230.1, 44.5, 17.2],\n",
    "   'radio': [37.8, 39.3, 45.9],\n",
    "   'news': [69.2, 45.1, 69.3],\n",
    "   'sales': [22.1, 10.4, 9.3]\n",
    "}"
   ]
  },
  {
   "cell_type": "code",
   "execution_count": 5,
   "id": "8e018810-e88f-4e76-bb2d-2ace5c4b03f1",
   "metadata": {},
   "outputs": [],
   "source": [
    "data = pd.DataFrame(sample_data)"
   ]
  },
  {
   "cell_type": "code",
   "execution_count": 6,
   "id": "158d5552-0739-4598-a496-408e2077688c",
   "metadata": {},
   "outputs": [
    {
     "data": {
      "text/html": [
       "<div>\n",
       "<style scoped>\n",
       "    .dataframe tbody tr th:only-of-type {\n",
       "        vertical-align: middle;\n",
       "    }\n",
       "\n",
       "    .dataframe tbody tr th {\n",
       "        vertical-align: top;\n",
       "    }\n",
       "\n",
       "    .dataframe thead th {\n",
       "        text-align: right;\n",
       "    }\n",
       "</style>\n",
       "<table border=\"1\" class=\"dataframe\">\n",
       "  <thead>\n",
       "    <tr style=\"text-align: right;\">\n",
       "      <th></th>\n",
       "      <th>tv</th>\n",
       "      <th>radio</th>\n",
       "      <th>news</th>\n",
       "      <th>sales</th>\n",
       "    </tr>\n",
       "  </thead>\n",
       "  <tbody>\n",
       "    <tr>\n",
       "      <th>0</th>\n",
       "      <td>230.1</td>\n",
       "      <td>37.8</td>\n",
       "      <td>69.2</td>\n",
       "      <td>22.1</td>\n",
       "    </tr>\n",
       "    <tr>\n",
       "      <th>1</th>\n",
       "      <td>44.5</td>\n",
       "      <td>39.3</td>\n",
       "      <td>45.1</td>\n",
       "      <td>10.4</td>\n",
       "    </tr>\n",
       "    <tr>\n",
       "      <th>2</th>\n",
       "      <td>17.2</td>\n",
       "      <td>45.9</td>\n",
       "      <td>69.3</td>\n",
       "      <td>9.3</td>\n",
       "    </tr>\n",
       "  </tbody>\n",
       "</table>\n",
       "</div>"
      ],
      "text/plain": [
       "      tv  radio  news  sales\n",
       "0  230.1   37.8  69.2   22.1\n",
       "1   44.5   39.3  45.1   10.4\n",
       "2   17.2   45.9  69.3    9.3"
      ]
     },
     "execution_count": 6,
     "metadata": {},
     "output_type": "execute_result"
    }
   ],
   "source": [
    "data"
   ]
  }
 ],
 "metadata": {
  "kernelspec": {
   "display_name": "Python 3 (ipykernel)",
   "language": "python",
   "name": "python3"
  },
  "language_info": {
   "codemirror_mode": {
    "name": "ipython",
    "version": 3
   },
   "file_extension": ".py",
   "mimetype": "text/x-python",
   "name": "python",
   "nbconvert_exporter": "python",
   "pygments_lexer": "ipython3",
   "version": "3.12.2"
  }
 },
 "nbformat": 4,
 "nbformat_minor": 5
}

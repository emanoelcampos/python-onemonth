{
 "cells": [
  {
   "cell_type": "markdown",
   "id": "ad34f5f5-6951-4bdb-83f4-6254fc18e649",
   "metadata": {},
   "source": [
    "# Data Analysis Intro"
   ]
  },
  {
   "cell_type": "markdown",
   "id": "13a70d19-2b81-4b17-8622-afe6dc21e63a",
   "metadata": {},
   "source": [
    "## Import Pandas"
   ]
  },
  {
   "cell_type": "code",
   "execution_count": 1,
   "id": "cb083dc5-dfa2-438a-8cd7-fbdb0bdb31bc",
   "metadata": {},
   "outputs": [],
   "source": [
    "import pandas as pd"
   ]
  },
  {
   "cell_type": "markdown",
   "id": "087892c3-2145-4968-9ee5-9a0621eb6fa4",
   "metadata": {},
   "source": [
    "## Importing Data"
   ]
  },
  {
   "cell_type": "code",
   "execution_count": 2,
   "id": "d516c7fd-5c18-44bc-86d7-dea1017b2680",
   "metadata": {},
   "outputs": [],
   "source": [
    "names = ['id', 'title', 'year', 'rating', 'votes', 'length', 'genres']\n",
    "data = pd.read_csv('ipynb-data-files/imdb_top_10000.txt', sep=\"\\t\", names=names, index_col=0)"
   ]
  },
  {
   "cell_type": "markdown",
   "id": "2c1a6d51-f2b3-4551-8d19-bbd31d66ceb9",
   "metadata": {},
   "source": [
    "## Cleaning Data"
   ]
  },
  {
   "cell_type": "code",
   "execution_count": 12,
   "id": "d3ad4d57-bb43-4ea2-9000-b53a727dd283",
   "metadata": {},
   "outputs": [],
   "source": [
    "data['formatted title'] = data['title'].str[:-7]"
   ]
  },
  {
   "cell_type": "code",
   "execution_count": 14,
   "id": "ebcd64b7-ff63-47c3-af08-73e6821ab70e",
   "metadata": {},
   "outputs": [
    {
     "data": {
      "text/html": [
       "<div>\n",
       "<style scoped>\n",
       "    .dataframe tbody tr th:only-of-type {\n",
       "        vertical-align: middle;\n",
       "    }\n",
       "\n",
       "    .dataframe tbody tr th {\n",
       "        vertical-align: top;\n",
       "    }\n",
       "\n",
       "    .dataframe thead th {\n",
       "        text-align: right;\n",
       "    }\n",
       "</style>\n",
       "<table border=\"1\" class=\"dataframe\">\n",
       "  <thead>\n",
       "    <tr style=\"text-align: right;\">\n",
       "      <th></th>\n",
       "      <th>title</th>\n",
       "      <th>year</th>\n",
       "      <th>rating</th>\n",
       "      <th>votes</th>\n",
       "      <th>length</th>\n",
       "      <th>genres</th>\n",
       "      <th>formatted title</th>\n",
       "    </tr>\n",
       "    <tr>\n",
       "      <th>id</th>\n",
       "      <th></th>\n",
       "      <th></th>\n",
       "      <th></th>\n",
       "      <th></th>\n",
       "      <th></th>\n",
       "      <th></th>\n",
       "      <th></th>\n",
       "    </tr>\n",
       "  </thead>\n",
       "  <tbody>\n",
       "    <tr>\n",
       "      <th>tt0111161</th>\n",
       "      <td>The Shawshank Redemption (1994)</td>\n",
       "      <td>1994</td>\n",
       "      <td>9.2</td>\n",
       "      <td>619479</td>\n",
       "      <td>142 mins.</td>\n",
       "      <td>Crime|Drama</td>\n",
       "      <td>The Shawshank Redemption</td>\n",
       "    </tr>\n",
       "    <tr>\n",
       "      <th>tt0110912</th>\n",
       "      <td>Pulp Fiction (1994)</td>\n",
       "      <td>1994</td>\n",
       "      <td>9.0</td>\n",
       "      <td>490065</td>\n",
       "      <td>154 mins.</td>\n",
       "      <td>Crime|Thriller</td>\n",
       "      <td>Pulp Fiction</td>\n",
       "    </tr>\n",
       "    <tr>\n",
       "      <th>tt0137523</th>\n",
       "      <td>Fight Club (1999)</td>\n",
       "      <td>1999</td>\n",
       "      <td>8.8</td>\n",
       "      <td>458173</td>\n",
       "      <td>139 mins.</td>\n",
       "      <td>Drama|Mystery|Thriller</td>\n",
       "      <td>Fight Club</td>\n",
       "    </tr>\n",
       "    <tr>\n",
       "      <th>tt0133093</th>\n",
       "      <td>The Matrix (1999)</td>\n",
       "      <td>1999</td>\n",
       "      <td>8.7</td>\n",
       "      <td>448114</td>\n",
       "      <td>136 mins.</td>\n",
       "      <td>Action|Adventure|Sci-Fi</td>\n",
       "      <td>The Matrix</td>\n",
       "    </tr>\n",
       "    <tr>\n",
       "      <th>tt1375666</th>\n",
       "      <td>Inception (2010)</td>\n",
       "      <td>2010</td>\n",
       "      <td>8.9</td>\n",
       "      <td>385149</td>\n",
       "      <td>148 mins.</td>\n",
       "      <td>Action|Adventure|Sci-Fi|Thriller</td>\n",
       "      <td>Inception</td>\n",
       "    </tr>\n",
       "  </tbody>\n",
       "</table>\n",
       "</div>"
      ],
      "text/plain": [
       "                                     title  year  rating   votes     length  \\\n",
       "id                                                                            \n",
       "tt0111161  The Shawshank Redemption (1994)  1994     9.2  619479  142 mins.   \n",
       "tt0110912              Pulp Fiction (1994)  1994     9.0  490065  154 mins.   \n",
       "tt0137523                Fight Club (1999)  1999     8.8  458173  139 mins.   \n",
       "tt0133093                The Matrix (1999)  1999     8.7  448114  136 mins.   \n",
       "tt1375666                 Inception (2010)  2010     8.9  385149  148 mins.   \n",
       "\n",
       "                                     genres           formatted title  \n",
       "id                                                                     \n",
       "tt0111161                       Crime|Drama  The Shawshank Redemption  \n",
       "tt0110912                    Crime|Thriller              Pulp Fiction  \n",
       "tt0137523            Drama|Mystery|Thriller                Fight Club  \n",
       "tt0133093           Action|Adventure|Sci-Fi                The Matrix  \n",
       "tt1375666  Action|Adventure|Sci-Fi|Thriller                 Inception  "
      ]
     },
     "execution_count": 14,
     "metadata": {},
     "output_type": "execute_result"
    }
   ],
   "source": [
    "data.head()"
   ]
  },
  {
   "cell_type": "code",
   "execution_count": 45,
   "id": "79ced614-5e05-4a5b-b670-f8ea279e1fd7",
   "metadata": {},
   "outputs": [
    {
     "name": "stderr",
     "output_type": "stream",
     "text": [
      "<>:1: SyntaxWarning: invalid escape sequence '\\('\n",
      "<>:1: SyntaxWarning: invalid escape sequence '\\('\n",
      "C:\\Users\\emanoel\\AppData\\Local\\Temp\\ipykernel_35776\\553948694.py:1: SyntaxWarning: invalid escape sequence '\\('\n",
      "  data['formatted title 2'] = data['title'].str.split(' \\(').str[0]\n"
     ]
    }
   ],
   "source": [
    "data['formatted title 2'] = data['title'].str.split(' \\(').str[0]"
   ]
  },
  {
   "cell_type": "code",
   "execution_count": 44,
   "id": "79787a54-e285-4369-a033-0af59f76cacc",
   "metadata": {},
   "outputs": [
    {
     "data": {
      "text/html": [
       "<div>\n",
       "<style scoped>\n",
       "    .dataframe tbody tr th:only-of-type {\n",
       "        vertical-align: middle;\n",
       "    }\n",
       "\n",
       "    .dataframe tbody tr th {\n",
       "        vertical-align: top;\n",
       "    }\n",
       "\n",
       "    .dataframe thead th {\n",
       "        text-align: right;\n",
       "    }\n",
       "</style>\n",
       "<table border=\"1\" class=\"dataframe\">\n",
       "  <thead>\n",
       "    <tr style=\"text-align: right;\">\n",
       "      <th></th>\n",
       "      <th>title</th>\n",
       "      <th>year</th>\n",
       "      <th>rating</th>\n",
       "      <th>votes</th>\n",
       "      <th>length</th>\n",
       "      <th>genres</th>\n",
       "      <th>formatted title</th>\n",
       "      <th>formatted title 2</th>\n",
       "    </tr>\n",
       "    <tr>\n",
       "      <th>id</th>\n",
       "      <th></th>\n",
       "      <th></th>\n",
       "      <th></th>\n",
       "      <th></th>\n",
       "      <th></th>\n",
       "      <th></th>\n",
       "      <th></th>\n",
       "      <th></th>\n",
       "    </tr>\n",
       "  </thead>\n",
       "  <tbody>\n",
       "    <tr>\n",
       "      <th>tt0111161</th>\n",
       "      <td>The Shawshank Redemption (1994)</td>\n",
       "      <td>1994</td>\n",
       "      <td>9.2</td>\n",
       "      <td>619479</td>\n",
       "      <td>142 mins.</td>\n",
       "      <td>Crime|Drama</td>\n",
       "      <td>The Shawshank Redemption</td>\n",
       "      <td>The Shawshank Redemption</td>\n",
       "    </tr>\n",
       "    <tr>\n",
       "      <th>tt0110912</th>\n",
       "      <td>Pulp Fiction (1994)</td>\n",
       "      <td>1994</td>\n",
       "      <td>9.0</td>\n",
       "      <td>490065</td>\n",
       "      <td>154 mins.</td>\n",
       "      <td>Crime|Thriller</td>\n",
       "      <td>Pulp Fiction</td>\n",
       "      <td>Pulp Fiction</td>\n",
       "    </tr>\n",
       "    <tr>\n",
       "      <th>tt0137523</th>\n",
       "      <td>Fight Club (1999)</td>\n",
       "      <td>1999</td>\n",
       "      <td>8.8</td>\n",
       "      <td>458173</td>\n",
       "      <td>139 mins.</td>\n",
       "      <td>Drama|Mystery|Thriller</td>\n",
       "      <td>Fight Club</td>\n",
       "      <td>Fight Club</td>\n",
       "    </tr>\n",
       "    <tr>\n",
       "      <th>tt0133093</th>\n",
       "      <td>The Matrix (1999)</td>\n",
       "      <td>1999</td>\n",
       "      <td>8.7</td>\n",
       "      <td>448114</td>\n",
       "      <td>136 mins.</td>\n",
       "      <td>Action|Adventure|Sci-Fi</td>\n",
       "      <td>The Matrix</td>\n",
       "      <td>The Matrix</td>\n",
       "    </tr>\n",
       "    <tr>\n",
       "      <th>tt1375666</th>\n",
       "      <td>Inception (2010)</td>\n",
       "      <td>2010</td>\n",
       "      <td>8.9</td>\n",
       "      <td>385149</td>\n",
       "      <td>148 mins.</td>\n",
       "      <td>Action|Adventure|Sci-Fi|Thriller</td>\n",
       "      <td>Inception</td>\n",
       "      <td>Inception</td>\n",
       "    </tr>\n",
       "  </tbody>\n",
       "</table>\n",
       "</div>"
      ],
      "text/plain": [
       "                                     title  year  rating   votes     length  \\\n",
       "id                                                                            \n",
       "tt0111161  The Shawshank Redemption (1994)  1994     9.2  619479  142 mins.   \n",
       "tt0110912              Pulp Fiction (1994)  1994     9.0  490065  154 mins.   \n",
       "tt0137523                Fight Club (1999)  1999     8.8  458173  139 mins.   \n",
       "tt0133093                The Matrix (1999)  1999     8.7  448114  136 mins.   \n",
       "tt1375666                 Inception (2010)  2010     8.9  385149  148 mins.   \n",
       "\n",
       "                                     genres           formatted title  \\\n",
       "id                                                                      \n",
       "tt0111161                       Crime|Drama  The Shawshank Redemption   \n",
       "tt0110912                    Crime|Thriller              Pulp Fiction   \n",
       "tt0137523            Drama|Mystery|Thriller                Fight Club   \n",
       "tt0133093           Action|Adventure|Sci-Fi                The Matrix   \n",
       "tt1375666  Action|Adventure|Sci-Fi|Thriller                 Inception   \n",
       "\n",
       "                   formatted title 2  \n",
       "id                                    \n",
       "tt0111161  The Shawshank Redemption   \n",
       "tt0110912              Pulp Fiction   \n",
       "tt0137523                Fight Club   \n",
       "tt0133093                The Matrix   \n",
       "tt1375666                 Inception   "
      ]
     },
     "execution_count": 44,
     "metadata": {},
     "output_type": "execute_result"
    }
   ],
   "source": [
    "data.head()"
   ]
  }
 ],
 "metadata": {
  "kernelspec": {
   "display_name": "Python 3 (ipykernel)",
   "language": "python",
   "name": "python3"
  },
  "language_info": {
   "codemirror_mode": {
    "name": "ipython",
    "version": 3
   },
   "file_extension": ".py",
   "mimetype": "text/x-python",
   "name": "python",
   "nbconvert_exporter": "python",
   "pygments_lexer": "ipython3",
   "version": "3.12.2"
  }
 },
 "nbformat": 4,
 "nbformat_minor": 5
}

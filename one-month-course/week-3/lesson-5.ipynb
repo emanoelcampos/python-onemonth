{
 "cells": [
  {
   "cell_type": "markdown",
   "id": "423731f6-23af-4b30-8242-8087c6b56e43",
   "metadata": {},
   "source": [
    "# Data Analysis Intro"
   ]
  },
  {
   "cell_type": "markdown",
   "id": "119b8e68-5668-418c-ad37-780c60fe49dd",
   "metadata": {},
   "source": [
    "## Import Pandas"
   ]
  },
  {
   "cell_type": "code",
   "execution_count": 1,
   "id": "9e60cfd9-27e9-4e0b-bb06-0f2ca2cc9c2b",
   "metadata": {},
   "outputs": [],
   "source": [
    "import pandas as pd"
   ]
  },
  {
   "cell_type": "markdown",
   "id": "bd56220b-7eb7-454c-ac78-22d594abc455",
   "metadata": {},
   "source": [
    "## Importing Data"
   ]
  },
  {
   "cell_type": "code",
   "execution_count": 7,
   "id": "57088955-6d03-41e8-b1c8-9635979b43fe",
   "metadata": {},
   "outputs": [],
   "source": [
    "names = ['names', 'year', 'rating', 'votes', 'length', 'genres']\n",
    "data = pd.read_csv('ipynb-data-files/imdb_top_10000.txt', sep=\"\\t\", names=names, index_col=0)"
   ]
  },
  {
   "cell_type": "markdown",
   "id": "4783d2ac-e678-4743-a42b-908afaf6efcd",
   "metadata": {},
   "source": [
    "## Exporting Data "
   ]
  },
  {
   "cell_type": "code",
   "execution_count": null,
   "id": "316f5f9d-22bc-464e-ac18-0de1446cde29",
   "metadata": {},
   "outputs": [],
   "source": [
    "data.to_csv('test.csv', header=True, index=True, sep=',')"
   ]
  }
 ],
 "metadata": {
  "kernelspec": {
   "display_name": "Python 3 (ipykernel)",
   "language": "python",
   "name": "python3"
  },
  "language_info": {
   "codemirror_mode": {
    "name": "ipython",
    "version": 3
   },
   "file_extension": ".py",
   "mimetype": "text/x-python",
   "name": "python",
   "nbconvert_exporter": "python",
   "pygments_lexer": "ipython3",
   "version": "3.12.2"
  }
 },
 "nbformat": 4,
 "nbformat_minor": 5
}
